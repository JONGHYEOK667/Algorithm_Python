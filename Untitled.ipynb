{
 "cells": [
  {
   "cell_type": "code",
   "execution_count": 67,
   "metadata": {},
   "outputs": [
    {
     "name": "stdout",
     "output_type": "stream",
     "text": [
      "A2, A3 : 2, 3\n",
      "i2, i3 : 1, 0\n",
      "A2, A3 : 4, 3\n",
      "i2, i3 : 1, 1\n",
      "A2, A3 : 4, 6\n",
      "i2, i3 : 2, 1\n",
      "A2, A3 : 6, 6\n",
      "i2, i3 : 3, 2\n",
      "A2, A3 : 8, 9\n",
      "i2, i3 : 4, 2\n",
      "A2, A3 : 12, 9\n",
      "i2, i3 : 4, 3\n",
      "A2, A3 : 12, 12\n",
      "i2, i3 : 5, 4\n",
      "A2, A3 : 16, 18\n",
      "i2, i3 : 6, 4\n",
      "A2, A3 : 18, 18\n",
      "i2, i3 : 7, 5\n",
      "A2, A3 : 24, 24\n",
      "i2, i3 : 8, 6\n",
      "[1, 2, 3, 4, 6, 8, 9, 12, 16, 18, 24]\n",
      "24\n"
     ]
    }
   ],
   "source": [
    "def solution(N):\n",
    "    \n",
    "    A = [1]  \n",
    "    \n",
    "    i2 = 0\n",
    "    i3 = 0\n",
    "    \n",
    "    for i in range(N):\n",
    "        \n",
    "        \n",
    "        A2 = 2*A[i2]\n",
    "        A3 = 3*A[i3]\n",
    "        print('A2, A3 : {}, {}'.format(A2, A3))\n",
    "        A.append(min(A2, A3))\n",
    "        \n",
    "        if A2 <= A3:\n",
    "            i2 += 1\n",
    "        if A2 >= A3:\n",
    "            i3 += 1 \n",
    "        print('i2, i3 : {}, {}'.format(i2, i3))\n",
    "        \n",
    "    print(A)    \n",
    "    return A[-1]\n",
    "\n",
    "\n",
    "ans = solution(10)    \n",
    "\n",
    "print(ans)\n",
    "\n",
    "    \n"
   ]
  }
 ],
 "metadata": {
  "kernelspec": {
   "display_name": "env_jonghyeok",
   "language": "python",
   "name": "env_jonghyeok"
  },
  "language_info": {
   "codemirror_mode": {
    "name": "ipython",
    "version": 3
   },
   "file_extension": ".py",
   "mimetype": "text/x-python",
   "name": "python",
   "nbconvert_exporter": "python",
   "pygments_lexer": "ipython3",
   "version": "3.7.9"
  }
 },
 "nbformat": 4,
 "nbformat_minor": 4
}
