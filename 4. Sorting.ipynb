{
 "cells": [
  {
   "cell_type": "markdown",
   "metadata": {},
   "source": [
    "## 0. Basic"
   ]
  },
  {
   "cell_type": "markdown",
   "metadata": {},
   "source": [
    "### Selection Sort (inefficient)"
   ]
  },
  {
   "cell_type": "code",
   "execution_count": 2,
   "metadata": {},
   "outputs": [
    {
     "name": "stdout",
     "output_type": "stream",
     "text": [
      "array : [0, 5, 9, 7, 3, 1, 6, 2, 4, 8]\n",
      "array : [0, 1, 9, 7, 3, 5, 6, 2, 4, 8]\n",
      "array : [0, 1, 2, 7, 3, 5, 6, 9, 4, 8]\n",
      "array : [0, 1, 2, 3, 7, 5, 6, 9, 4, 8]\n",
      "array : [0, 1, 2, 3, 4, 5, 6, 9, 7, 8]\n",
      "array : [0, 1, 2, 3, 4, 5, 6, 9, 7, 8]\n",
      "array : [0, 1, 2, 3, 4, 5, 6, 9, 7, 8]\n",
      "array : [0, 1, 2, 3, 4, 5, 6, 7, 9, 8]\n",
      "array : [0, 1, 2, 3, 4, 5, 6, 7, 8, 9]\n",
      "array : [0, 1, 2, 3, 4, 5, 6, 7, 8, 9]\n"
     ]
    }
   ],
   "source": [
    "array = [7,5,9,0,3,1,6,2,4,8]\n",
    "\n",
    "for i in range(len(array)):\n",
    "    min_index = i\n",
    "    for j in range(i+1, len(array)):\n",
    "        if array[min_index] > array[j]:\n",
    "            min_index = j\n",
    "            \n",
    "    array[i], array[min_index] = array[min_index], array[i]\n",
    "    print('array : {}'.format(array))\n",
    "        \n",
    "        "
   ]
  },
  {
   "cell_type": "markdown",
   "metadata": {},
   "source": [
    "### Selection Sort"
   ]
  },
  {
   "cell_type": "code",
   "execution_count": 6,
   "metadata": {},
   "outputs": [
    {
     "name": "stdout",
     "output_type": "stream",
     "text": [
      "array : [5, 7, 9, 0, 3, 1, 6, 2, 4, 8]\n",
      "array : [5, 7, 9, 0, 3, 1, 6, 2, 4, 8]\n",
      "array : [0, 5, 7, 9, 3, 1, 6, 2, 4, 8]\n",
      "array : [0, 3, 5, 7, 9, 1, 6, 2, 4, 8]\n",
      "array : [0, 1, 3, 5, 7, 9, 6, 2, 4, 8]\n",
      "array : [0, 1, 3, 5, 6, 7, 9, 2, 4, 8]\n",
      "array : [0, 1, 2, 3, 5, 6, 7, 9, 4, 8]\n",
      "array : [0, 1, 2, 3, 4, 5, 6, 7, 9, 8]\n",
      "array : [0, 1, 2, 3, 4, 5, 6, 7, 8, 9]\n"
     ]
    }
   ],
   "source": [
    "array = [7,5,9,0,3,1,6,2,4,8]\n",
    "\n",
    "for i in range(1,len(array)):\n",
    "    for j in range(i, 0, -1):\n",
    "        if array[j] < array[j-1] :\n",
    "            array[j], array[j-1] = array[j-1], array[j]\n",
    "            \n",
    "        else:\n",
    "            break\n",
    "            \n",
    "    print('array : {}'.format(array))\n",
    "            \n",
    "\n",
    "    "
   ]
  },
  {
   "cell_type": "markdown",
   "metadata": {},
   "source": [
    "### Quick Sort (Hoare Partition)"
   ]
  },
  {
   "cell_type": "code",
   "execution_count": 35,
   "metadata": {},
   "outputs": [
    {
     "name": "stdout",
     "output_type": "stream",
     "text": [
      "pivot, left, right, end, array : (0,1,9,9,[5, 7, 9, 0, 3, 1, 6, 2, 4, 8])\n",
      "pivot, left, right, end, array : (0,1,8,9,[5, 4, 9, 0, 3, 1, 6, 2, 7, 8])\n",
      "pivot, left, right, end, array : (0,2,7,9,[5, 4, 2, 0, 3, 1, 6, 9, 7, 8])\n",
      "pivot, left, right, end, array : (0,6,5,9,[1, 4, 2, 0, 3, 5, 6, 9, 7, 8])\n",
      "pivot, left, right, end, array : (0,1,3,4,[1, 0, 2, 4, 3, 5, 6, 9, 7, 8])\n",
      "pivot, left, right, end, array : (0,2,1,4,[0, 1, 2, 4, 3, 5, 6, 9, 7, 8])\n",
      "start, end : 0, 0\n",
      "pivot, left, right, end, array : (2,3,2,4,[0, 1, 2, 4, 3, 5, 6, 9, 7, 8])\n",
      "start, end : 2, 1\n",
      "pivot, left, right, end, array : (3,5,4,4,[0, 1, 2, 3, 4, 5, 6, 9, 7, 8])\n",
      "start, end : 3, 3\n",
      "start, end : 5, 4\n",
      "pivot, left, right, end, array : (6,7,6,9,[0, 1, 2, 3, 4, 5, 6, 9, 7, 8])\n",
      "start, end : 6, 5\n",
      "pivot, left, right, end, array : (7,10,9,9,[0, 1, 2, 3, 4, 5, 6, 8, 7, 9])\n",
      "pivot, left, right, end, array : (7,9,8,8,[0, 1, 2, 3, 4, 5, 6, 7, 8, 9])\n",
      "start, end : 7, 7\n",
      "start, end : 9, 8\n",
      "start, end : 10, 9\n"
     ]
    }
   ],
   "source": [
    "array = [5,7,9,0,3,1,6,2,4,8]\n",
    "\n",
    "\n",
    "\n",
    "def quick_sort(array,start,end):\n",
    "    if start >= end:\n",
    "        print('start, end : {}, {}'.format(start, end))\n",
    "        return\n",
    "    \n",
    "    pivot = start\n",
    "    left = pivot + 1\n",
    "    right  = end\n",
    "\n",
    "    \n",
    "    while left <= right:\n",
    "        while left <= end and array[left] <= array[pivot]:\n",
    "            left += 1\n",
    "            \n",
    "        while right > start and array[right] >= array[pivot]:\n",
    "            right -=  1\n",
    "            \n",
    "        if left > right  :\n",
    "            array[right],  array[pivot] = array[pivot],  array[right]\n",
    "            \n",
    "        else:\n",
    "            array[right],  array[left] = array[left],  array[right]\n",
    "            \n",
    "        print('pivot, left, right, end, array : ({},{},{},{},{})'.format(pivot, left, right, end, array))\n",
    "        \n",
    "    quick_sort(array, start, right-1)\n",
    "    quick_sort(array, right+1,  end)\n",
    "            \n",
    "\n",
    "print('pivot, left, right, end, array : ({},{},{},{},{})'.format(0, 1, len(array)-1, len(array)-1, array))\n",
    "quick_sort(array,  0, len(array)-1)\n",
    "    \n",
    "    "
   ]
  },
  {
   "cell_type": "markdown",
   "metadata": {},
   "source": [
    "### Count Sort"
   ]
  },
  {
   "cell_type": "code",
   "execution_count": 43,
   "metadata": {},
   "outputs": [
    {
     "name": "stdout",
     "output_type": "stream",
     "text": [
      "[0, 0, 0, 0, 0, 0, 0, 0, 0, 0]\n",
      "0 0 1 1 2 2 3 4 5 5 6 7 8 9 9 "
     ]
    }
   ],
   "source": [
    "array = [7,5,9,0,3,1,6,2,9,1,4,8,0,5,2]\n",
    "\n",
    "count  = [0] * (max(array)+1)\n",
    "print(count)\n",
    "\n",
    "for i in range(len(array)):\n",
    "    count[array[i]] += 1\n",
    "    \n",
    "for i in range(len(count)):\n",
    "    for j in range(count[i]):\n",
    "        print(i, end =' ')"
   ]
  },
  {
   "cell_type": "markdown",
   "metadata": {},
   "source": [
    "## 1. From top to Bottom"
   ]
  },
  {
   "cell_type": "code",
   "execution_count": 49,
   "metadata": {},
   "outputs": [
    {
     "name": "stdin",
     "output_type": "stream",
     "text": [
      " 3\n",
      " 111\n",
      " 222\n",
      " 5455\n"
     ]
    },
    {
     "name": "stdout",
     "output_type": "stream",
     "text": [
      "[111, 222, 5455]\n",
      "5455 222 111 "
     ]
    }
   ],
   "source": [
    "n = int(input()) \n",
    "\n",
    "array = []\n",
    "\n",
    "for i in range(n):\n",
    "    array.append(int(input()))\n",
    "    \n",
    "print(array)\n",
    "\n",
    "array  =  sorted(array,  reverse=True)\n",
    "\n",
    "for i in array:\n",
    "    print(i, end=' ')"
   ]
  },
  {
   "cell_type": "markdown",
   "metadata": {},
   "source": [
    "## 2. Scoring student"
   ]
  },
  {
   "cell_type": "code",
   "execution_count": 56,
   "metadata": {},
   "outputs": [
    {
     "name": "stdin",
     "output_type": "stream",
     "text": [
      " 2\n",
      " pjh 100\n"
     ]
    },
    {
     "name": "stdout",
     "output_type": "stream",
     "text": [
      "['pjh', '100']\n"
     ]
    },
    {
     "name": "stdin",
     "output_type": "stream",
     "text": [
      " lys 150\n"
     ]
    },
    {
     "name": "stdout",
     "output_type": "stream",
     "text": [
      "['lys', '150']\n",
      "[('pjh', 100), ('lys', 150)]\n",
      "pjh lys "
     ]
    }
   ],
   "source": [
    "n = int(input())\n",
    "\n",
    "array = []\n",
    "for  i  in  range(n):\n",
    "    input_data =  input().split()\n",
    "    print(input_data)\n",
    "    array.append((input_data[0], int(input_data[1])))\n",
    "    \n",
    "print(array)\n",
    "\n",
    "array = sorted(array, key=lambda student: student[1])\n",
    "\n",
    "for student in array:\n",
    "    print(student[0], end=' ')"
   ]
  },
  {
   "cell_type": "markdown",
   "metadata": {},
   "source": [
    "## 3. Substitute element"
   ]
  },
  {
   "cell_type": "code",
   "execution_count": 65,
   "metadata": {},
   "outputs": [
    {
     "name": "stdin",
     "output_type": "stream",
     "text": [
      " 5 3  \n",
      "  1 2 5 4 3\n",
      " 5 5 6 6 5\n"
     ]
    }
   ],
   "source": [
    "n, k = map(int, input().split())\n",
    "\n",
    "a  = list(map(int, input().split()))\n",
    "b  = list(map(int, input().split()))\n",
    "\n"
   ]
  },
  {
   "cell_type": "code",
   "execution_count": 66,
   "metadata": {},
   "outputs": [
    {
     "name": "stdout",
     "output_type": "stream",
     "text": [
      "26\n"
     ]
    }
   ],
   "source": [
    "a.sort()\n",
    "b.sort(reverse=True)\n",
    "\n",
    "for i in range(k):\n",
    "    if a[i] < b[i]:\n",
    "        a[i], b[i] = b[i], a[i]\n",
    "        \n",
    "    else:\n",
    "        break\n",
    "        \n",
    "print(sum(a))\n",
    "        \n",
    "\n",
    "    \n"
   ]
  },
  {
   "cell_type": "code",
   "execution_count": null,
   "metadata": {},
   "outputs": [],
   "source": []
  },
  {
   "cell_type": "code",
   "execution_count": null,
   "metadata": {},
   "outputs": [],
   "source": []
  },
  {
   "cell_type": "code",
   "execution_count": null,
   "metadata": {},
   "outputs": [],
   "source": []
  }
 ],
 "metadata": {
  "kernelspec": {
   "display_name": "env_jonghyeok",
   "language": "python",
   "name": "env_jonghyeok"
  },
  "language_info": {
   "codemirror_mode": {
    "name": "ipython",
    "version": 3
   },
   "file_extension": ".py",
   "mimetype": "text/x-python",
   "name": "python",
   "nbconvert_exporter": "python",
   "pygments_lexer": "ipython3",
   "version": "3.7.9"
  }
 },
 "nbformat": 4,
 "nbformat_minor": 4
}
