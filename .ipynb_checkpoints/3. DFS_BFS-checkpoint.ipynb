{
 "cells": [
  {
   "cell_type": "markdown",
   "metadata": {},
   "source": [
    "## 0. Basic"
   ]
  },
  {
   "cell_type": "markdown",
   "metadata": {},
   "source": [
    "### Stack"
   ]
  },
  {
   "cell_type": "code",
   "execution_count": 4,
   "metadata": {},
   "outputs": [
    {
     "name": "stdout",
     "output_type": "stream",
     "text": [
      "stack : [5]\n",
      "stack : [5, 2]\n",
      "stack : [5, 2, 3]\n",
      "stack : [5, 2, 3, 7]\n",
      "stack : [5, 2, 3]\n",
      "stack : [5, 2, 3, 1]\n",
      "stack : [5, 2, 3, 1, 4]\n",
      "stack : [5, 2, 3, 1]\n"
     ]
    }
   ],
   "source": [
    "stack = []\n",
    "\n",
    "\n",
    "stack.append(5)\n",
    "print('stack : {}'.format(stack))\n",
    "stack.append(2)\n",
    "print('stack : {}'.format(stack))\n",
    "stack.append(3)\n",
    "print('stack : {}'.format(stack))\n",
    "stack.append(7)\n",
    "print('stack : {}'.format(stack))\n",
    "stack.pop()\n",
    "print('stack : {}'.format(stack))\n",
    "stack.append(1)\n",
    "print('stack : {}'.format(stack))\n",
    "stack.append(4)\n",
    "print('stack : {}'.format(stack))\n",
    "stack.pop()\n",
    "print('stack : {}'.format(stack))"
   ]
  },
  {
   "cell_type": "markdown",
   "metadata": {},
   "source": [
    "### Queue"
   ]
  },
  {
   "cell_type": "code",
   "execution_count": 23,
   "metadata": {},
   "outputs": [
    {
     "name": "stdout",
     "output_type": "stream",
     "text": [
      "['__add__', '__bool__', '__class__', '__contains__', '__copy__', '__delattr__', '__delitem__', '__dir__', '__doc__', '__eq__', '__format__', '__ge__', '__getattribute__', '__getitem__', '__gt__', '__hash__', '__iadd__', '__imul__', '__init__', '__init_subclass__', '__iter__', '__le__', '__len__', '__lt__', '__mul__', '__ne__', '__new__', '__reduce__', '__reduce_ex__', '__repr__', '__reversed__', '__rmul__', '__setattr__', '__setitem__', '__sizeof__', '__str__', '__subclasshook__', 'append', 'appendleft', 'clear', 'copy', 'count', 'extend', 'extendleft', 'index', 'insert', 'maxlen', 'pop', 'popleft', 'remove', 'reverse', 'rotate']\n",
      "queue : deque([5])\n",
      "queue : deque([5, 2])\n",
      "queue : deque([5, 2, 3])\n",
      "queue : deque([5, 2, 3, 7])\n",
      "queue : deque([2, 3, 7])\n",
      "queue : deque([2, 3, 7, 1])\n",
      "queue : deque([2, 3, 7, 1, 4])\n",
      "queue : deque([3, 7, 1, 4])\n",
      "queue : deque([4, 1, 7, 3])\n",
      "queue_list : [4, 1, 7, 3]\n"
     ]
    }
   ],
   "source": [
    "from collections import deque\n",
    "\n",
    "queue = deque()\n",
    "\n",
    "a = dir(queue)\n",
    "print(a)\n",
    "queue.append(5)\n",
    "print('queue : {}'.format(queue))\n",
    "queue.append(2)\n",
    "print('queue : {}'.format(queue))\n",
    "queue.append(3)\n",
    "print('queue : {}'.format(queue))\n",
    "queue.append(7)\n",
    "print('queue : {}'.format(queue))\n",
    "queue.popleft()\n",
    "print('queue : {}'.format(queue))\n",
    "queue.append(1)\n",
    "print('queue : {}'.format(queue))\n",
    "queue.append(4)\n",
    "print('queue : {}'.format(queue))\n",
    "queue.popleft()\n",
    "print('queue : {}'.format(queue))\n",
    "\n",
    "\n",
    "queue.reverse()\n",
    "print('queue : {}'.format(queue))\n",
    "\n",
    "queue_list = list(queue)\n",
    "print('queue_list : {}'.format(queue_list))\n",
    "\n",
    "\n"
   ]
  },
  {
   "cell_type": "markdown",
   "metadata": {},
   "source": [
    "### Reculsive Function"
   ]
  },
  {
   "cell_type": "code",
   "execution_count": 26,
   "metadata": {},
   "outputs": [
    {
     "name": "stdout",
     "output_type": "stream",
     "text": [
      "1 번째 재귀 함수에서 2 번째 재귀 함수를 호출합니다\n",
      "2 번째 재귀 함수에서 3 번째 재귀 함수를 호출합니다\n",
      "3 번째 재귀 함수에서 4 번째 재귀 함수를 호출합니다\n",
      "4 번째 재귀 함수에서 5 번째 재귀 함수를 호출합니다\n",
      "5 번째 재귀 함수에서 6 번째 재귀 함수를 호출합니다\n",
      "6 번째 재귀 함수에서 7 번째 재귀 함수를 호출합니다\n",
      "7 번째 재귀 함수에서 8 번째 재귀 함수를 호출합니다\n",
      "8 번째 재귀 함수에서 9 번째 재귀 함수를 호출합니다\n",
      "9 번째 재귀 함수에서 10 번째 재귀 함수를 호출합니다\n",
      "9 번째 재귀 함수를 종료합니다\n",
      "8 번째 재귀 함수를 종료합니다\n",
      "7 번째 재귀 함수를 종료합니다\n",
      "6 번째 재귀 함수를 종료합니다\n",
      "5 번째 재귀 함수를 종료합니다\n",
      "4 번째 재귀 함수를 종료합니다\n",
      "3 번째 재귀 함수를 종료합니다\n",
      "2 번째 재귀 함수를 종료합니다\n",
      "1 번째 재귀 함수를 종료합니다\n"
     ]
    }
   ],
   "source": [
    "def reculsive_function(i):\n",
    "    if i == 10 :\n",
    "        return\n",
    "    \n",
    "    print(i, '번째 재귀 함수에서', i+1, '번째 재귀 함수를 호출합니다')\n",
    "    reculsive_function(i+1)\n",
    "    print(i, '번째 재귀 함수를 종료합니다')\n",
    "    \n",
    "reculsive_function(1)"
   ]
  },
  {
   "cell_type": "markdown",
   "metadata": {},
   "source": [
    "### Factorial"
   ]
  },
  {
   "cell_type": "code",
   "execution_count": 31,
   "metadata": {},
   "outputs": [
    {
     "name": "stdout",
     "output_type": "stream",
     "text": [
      "5! iteration :  120\n",
      "5! recursive :  120\n"
     ]
    }
   ],
   "source": [
    "def factorial_iteration(n):\n",
    "    result = 1\n",
    "    for i in range(1,n+1):\n",
    "        result *= i\n",
    "        \n",
    "    return result\n",
    "\n",
    "\n",
    "def factorial_recursive(n):\n",
    "    if n <=1:\n",
    "        return 1\n",
    "    return n * factorial_recursive(n-1)\n",
    "\n",
    "\n",
    "print('5! iteration : ', factorial_iteration(5))\n",
    "print('5! recursive : ', factorial_recursive(5))\n",
    "    \n",
    "    "
   ]
  },
  {
   "cell_type": "code",
   "execution_count": 35,
   "metadata": {},
   "outputs": [
    {
     "name": "stdout",
     "output_type": "stream",
     "text": [
      "114679330\n"
     ]
    }
   ],
   "source": [
    "a = 29502672+16438427+13200000+19323000+6515231+2200000+29000000 -1500000\n",
    "\n",
    "print(a)"
   ]
  },
  {
   "cell_type": "markdown",
   "metadata": {},
   "source": [
    "### Depth First Search (Stack) / Breath First Search (Queue)"
   ]
  },
  {
   "cell_type": "code",
   "execution_count": 42,
   "metadata": {},
   "outputs": [
    {
     "name": "stdout",
     "output_type": "stream",
     "text": [
      "[[0, 7, 5], [7, 0, 999999999], [5, 999999999, 0]]\n",
      "[[(1, 7), (2, 5)], [(0, 7)], [(0, 5)]]\n",
      "[(1, 7), (2, 5)]\n"
     ]
    }
   ],
   "source": [
    "# 2차원 리스트를 이용한 인접 행렬 표현\n",
    "\n",
    "\n",
    "INF = 999999999\n",
    "\n",
    "graph_Mat = [[0, 7, 5],\n",
    "             [7, 0, INF],\n",
    "             [5, INF, 0]]\n",
    "\n",
    "print(graph_Mat)\n",
    "\n",
    "graph_List = [[] for _ in range(3)]\n",
    "\n",
    "\n",
    "graph_List[0].append((1,7))\n",
    "graph_List[0].append((2,5))\n",
    "\n",
    "graph_List[1].append((0,7))\n",
    "\n",
    "graph_List[2].append((0,5))\n",
    "\n",
    "\n",
    "print(graph_List)\n",
    "print(graph_List[0])\n",
    "\n"
   ]
  },
  {
   "cell_type": "code",
   "execution_count": 45,
   "metadata": {},
   "outputs": [
    {
     "name": "stdout",
     "output_type": "stream",
     "text": [
      "v : 1\n",
      "visited : [False, True, False, False, False, False, False, False, False]\n",
      "v : 2\n",
      "visited : [False, True, True, False, False, False, False, False, False]\n",
      "v : 7\n",
      "visited : [False, True, True, False, False, False, False, True, False]\n",
      "v : 6\n",
      "visited : [False, True, True, False, False, False, True, True, False]\n",
      "v : 8\n",
      "visited : [False, True, True, False, False, False, True, True, True]\n",
      "v : 3\n",
      "visited : [False, True, True, True, False, False, True, True, True]\n",
      "v : 4\n",
      "visited : [False, True, True, True, True, False, True, True, True]\n",
      "v : 5\n",
      "visited : [False, True, True, True, True, True, True, True, True]\n"
     ]
    }
   ],
   "source": [
    "def dfs(graph, v, visited):\n",
    "    visited[v] = True\n",
    "    print('v : {}'.format(v))\n",
    "    print('visited : {}'.format(visited))\n",
    "    \n",
    "    for i in graph[v]:\n",
    "        if not visited[i]:\n",
    "            dfs(graph, i, visited)\n",
    "\n",
    "\n",
    "graph = [\n",
    "    [],\n",
    "    [2,3,8],\n",
    "    [1,7],\n",
    "    [1,4,5],\n",
    "    [3,5],\n",
    "    [3,4],\n",
    "    [7],\n",
    "    [2,6,8],\n",
    "    [1,7]\n",
    "]\n",
    "\n",
    "visited = [False]*9\n",
    "\n",
    "dfs(graph, 1, visited)\n",
    "            "
   ]
  },
  {
   "cell_type": "code",
   "execution_count": 57,
   "metadata": {},
   "outputs": [
    {
     "name": "stdout",
     "output_type": "stream",
     "text": [
      "queue : [1]\n",
      "v : 1\n",
      "queue : [2, 3, 8]\n",
      "visited : [False, True, True, True, False, False, False, False, True]\n",
      "v : 2\n",
      "queue : [3, 8, 7]\n",
      "visited : [False, True, True, True, False, False, False, True, True]\n",
      "v : 3\n",
      "queue : [8, 7, 4, 5]\n",
      "visited : [False, True, True, True, True, True, False, True, True]\n",
      "v : 8\n",
      "queue : [7, 4, 5]\n",
      "visited : [False, True, True, True, True, True, False, True, True]\n",
      "v : 7\n",
      "queue : [4, 5, 6]\n",
      "visited : [False, True, True, True, True, True, True, True, True]\n",
      "v : 4\n",
      "queue : [5, 6]\n",
      "visited : [False, True, True, True, True, True, True, True, True]\n",
      "v : 5\n",
      "queue : [6]\n",
      "visited : [False, True, True, True, True, True, True, True, True]\n",
      "v : 6\n",
      "queue : []\n",
      "visited : [False, True, True, True, True, True, True, True, True]\n"
     ]
    }
   ],
   "source": [
    "from collections import deque\n",
    "\n",
    "def bfs(graph, start, visited):\n",
    "    queue = deque([start])\n",
    "    print('queue : {}'.format(list(queue)))\n",
    "    visited[start] = True\n",
    "    \n",
    "    while queue:\n",
    "        v = queue.popleft()\n",
    "        print('v : {}'.format(v))\n",
    "        \n",
    "        \n",
    "        for i in graph[v]:\n",
    "            if visited[i] == False:\n",
    "                queue.append(i)\n",
    "                visited[i] = True\n",
    "                \n",
    "        print('queue : {}'.format(list(queue)))\n",
    "        print('visited : {}'.format(visited))\n",
    "                \n",
    "                \n",
    "graph = [\n",
    "    [],\n",
    "    [2,3,8],\n",
    "    [1,7],\n",
    "    [1,4,5],\n",
    "    [3,5],\n",
    "    [3,4],\n",
    "    [7],\n",
    "    [2,6,8],\n",
    "    [1,7]\n",
    "]\n",
    "\n",
    "visited = [False]*9\n",
    "\n",
    "bfs(graph, 1, visited)\n",
    "        "
   ]
  },
  {
   "cell_type": "markdown",
   "metadata": {},
   "source": [
    "## 1. Num. of Ice"
   ]
  },
  {
   "cell_type": "code",
   "execution_count": 69,
   "metadata": {},
   "outputs": [
    {
     "name": "stdin",
     "output_type": "stream",
     "text": [
      " 3 3\n",
      " 0 0 1\n",
      " 0 1 0 \n",
      " 1 0 1\n"
     ]
    },
    {
     "name": "stdout",
     "output_type": "stream",
     "text": [
      "graph : \n",
      "[0, 0, 1]\n",
      "[0, 1, 0]\n",
      "[1, 0, 1]\n"
     ]
    }
   ],
   "source": [
    "N, M = map(int, input().split())\n",
    "\n",
    "graph = []\n",
    "for i in range(N):\n",
    "    graph.append(list(map(int, input().split())))\n",
    "    \n",
    "print('graph : ')\n",
    "for row in graph:\n",
    "    print(row)\n",
    "    \n",
    "    \n",
    "\n",
    "    "
   ]
  },
  {
   "cell_type": "code",
   "execution_count": 76,
   "metadata": {},
   "outputs": [
    {
     "name": "stdout",
     "output_type": "stream",
     "text": [
      "graph : \n",
      "[0, 0, 1]\n",
      "[0, 1, 0]\n",
      "[1, 0, 1]\n",
      "graph : \n",
      "[1, 0, 1]\n",
      "[1, 1, 0]\n",
      "[1, 0, 1]\n",
      "graph : \n",
      "[1, 1, 1]\n",
      "[1, 1, 0]\n",
      "[1, 0, 1]\n",
      "graph : \n",
      "[1, 1, 1]\n",
      "[1, 1, 0]\n",
      "[1, 0, 1]\n",
      "graph : \n",
      "[1, 1, 1]\n",
      "[1, 1, 1]\n",
      "[1, 0, 1]\n",
      "graph : \n",
      "[1, 1, 1]\n",
      "[1, 1, 1]\n",
      "[1, 1, 1]\n",
      "3\n"
     ]
    }
   ],
   "source": [
    "def dfs(x,y):\n",
    "    if x <= -1 or x >= N or y <= -1 or y >= M:\n",
    "        return False\n",
    "    \n",
    "    if graph[x][y] == 0:\n",
    "        graph[x][y] = 1\n",
    "        \n",
    "        dfs(x-1,y)\n",
    "        dfs(x+1,y)\n",
    "        dfs(x,y-1)\n",
    "        dfs(x,y+1)\n",
    "        print('graph : ')\n",
    "        for row in graph:\n",
    "            print(row)\n",
    "        \n",
    "        return True\n",
    "\n",
    "    \n",
    "    return False\n",
    "\n",
    "result = 0\n",
    "\n",
    "graph = [[0,0,1],[0,1,0],[1,0,1]]\n",
    "\n",
    "print('graph : ')\n",
    "for row in graph:\n",
    "    print(row)\n",
    "\n",
    "for i in range(N):\n",
    "    for j in range(M):\n",
    "        if dfs(i,j) == True:\n",
    "            result += 1\n",
    "            \n",
    "print(result)\n",
    "        \n",
    "        \n",
    "        "
   ]
  },
  {
   "cell_type": "code",
   "execution_count": null,
   "metadata": {},
   "outputs": [],
   "source": []
  },
  {
   "cell_type": "code",
   "execution_count": null,
   "metadata": {},
   "outputs": [],
   "source": []
  }
 ],
 "metadata": {
  "kernelspec": {
   "display_name": "env_jonghyeok",
   "language": "python",
   "name": "env_jonghyeok"
  },
  "language_info": {
   "codemirror_mode": {
    "name": "ipython",
    "version": 3
   },
   "file_extension": ".py",
   "mimetype": "text/x-python",
   "name": "python",
   "nbconvert_exporter": "python",
   "pygments_lexer": "ipython3",
   "version": "3.7.9"
  }
 },
 "nbformat": 4,
 "nbformat_minor": 4
}
