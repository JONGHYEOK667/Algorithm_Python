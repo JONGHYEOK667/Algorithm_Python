{
 "cells": [
  {
   "cell_type": "markdown",
   "metadata": {},
   "source": [
    "## 1. change coin"
   ]
  },
  {
   "cell_type": "code",
   "execution_count": 2,
   "metadata": {},
   "outputs": [
    {
     "name": "stdout",
     "output_type": "stream",
     "text": [
      "coin_type 500 / coin_num 3 / change 390\n",
      "coin_type 100 / coin_num 6 / change 90\n",
      "coin_type 50 / coin_num 7 / change 40\n",
      "coin_type 10 / coin_num 11 / change 0\n",
      "result : 11\n",
      "--------------------------------------------|\n",
      "time : 0.0009920597076416016 sec\n"
     ]
    }
   ],
   "source": [
    "import time\n",
    "\n",
    "start_time = time.time()\n",
    "\n",
    "change = 1890\n",
    "coin_type = [500, 100, 50, 10]\n",
    "\n",
    "def change_coin(change, coin_type):\n",
    "    coin_num = 0\n",
    "    \n",
    "    for i in coin_type:\n",
    "        coin_num += change // i\n",
    "        change %= i\n",
    "        print('coin_type {} / coin_num {} / change {}'.format(i, coin_num, change))\n",
    "        \n",
    "    return coin_num\n",
    "\n",
    "n = change_coin(change, coin_type)\n",
    "print('result : {}'.format(n))\n",
    "\n",
    "end_time = time.time()\n",
    "\n",
    "print('--------------------------------------------|')\n",
    "print('time : {} sec'.format(end_time-start_time))\n",
    "    "
   ]
  },
  {
   "cell_type": "code",
   "execution_count": null,
   "metadata": {},
   "outputs": [],
   "source": []
  },
  {
   "cell_type": "markdown",
   "metadata": {},
   "source": [
    "## 2. rule of large number"
   ]
  },
  {
   "cell_type": "code",
   "execution_count": 5,
   "metadata": {},
   "outputs": [],
   "source": [
    "# Ex\n",
    "# In 1 : 5 8 3\n",
    "# In 2 : 2 4 5 4 6\n",
    "\n",
    "# out : 46"
   ]
  },
  {
   "cell_type": "markdown",
   "metadata": {},
   "source": [
    "### Bad(for statement)"
   ]
  },
  {
   "cell_type": "code",
   "execution_count": 12,
   "metadata": {},
   "outputs": [
    {
     "name": "stdin",
     "output_type": "stream",
     "text": [
      " 9 100000000 3\n",
      " 1 2 3 4 5 6 7 8 9\n"
     ]
    },
    {
     "name": "stdout",
     "output_type": "stream",
     "text": [
      "875000000\n",
      "--------------------------------------------|\n",
      "time : 13.36651349067688 sec\n"
     ]
    }
   ],
   "source": [
    "# N : array size, M : total add number, K : max repeat number \n",
    "n, m, k = map(int, input().split())\n",
    "\n",
    "# N data input\n",
    "data = list(map(int, input().split()))\n",
    "\n",
    "data.sort()\n",
    "\n",
    "first = data[n-1]\n",
    "second = data[n-2]\n",
    "\n",
    "large_num = 0\n",
    "repeat = 0\n",
    "\n",
    "start_time = time.time()\n",
    "\n",
    "for _ in range(m):\n",
    "    if repeat == k:\n",
    "        large_num += second\n",
    "        repeat = 0\n",
    "        \n",
    "    else:\n",
    "        large_num += first\n",
    "        repeat += 1\n",
    "        \n",
    "print(large_num)\n",
    "\n",
    "end_time = time.time()\n",
    "\n",
    "print('--------------------------------------------|')\n",
    "print('time : {} sec'.format(end_time-start_time))\n",
    "    \n",
    "    "
   ]
  },
  {
   "cell_type": "markdown",
   "metadata": {},
   "source": [
    "### Good"
   ]
  },
  {
   "cell_type": "code",
   "execution_count": 13,
   "metadata": {},
   "outputs": [
    {
     "name": "stdin",
     "output_type": "stream",
     "text": [
      " 9 100000000 3\n",
      " 1 2 3 4 5 6 7 8 9\n"
     ]
    },
    {
     "name": "stdout",
     "output_type": "stream",
     "text": [
      "875000000\n",
      "--------------------------------------------|\n",
      "time : 0.0009999275207519531 sec\n"
     ]
    }
   ],
   "source": [
    "# N : array size, M : total add number, K : max repeat number \n",
    "n, m, k = map(int, input().split())\n",
    "\n",
    "# N data input\n",
    "data = list(map(int, input().split()))\n",
    "\n",
    "data.sort()\n",
    "\n",
    "first = data[n-1]\n",
    "second = data[n-2]\n",
    "\n",
    "start_time = time.time()\n",
    "\n",
    "cycle = k*first + second\n",
    "large_num = m//(k+1) * cycle + m%(k+1)*first\n",
    "\n",
    "print(large_num)\n",
    "\n",
    "end_time = time.time()\n",
    "\n",
    "print('--------------------------------------------|')\n",
    "print('time : {} sec'.format(end_time-start_time))"
   ]
  },
  {
   "cell_type": "code",
   "execution_count": null,
   "metadata": {},
   "outputs": [],
   "source": []
  },
  {
   "cell_type": "markdown",
   "metadata": {},
   "source": [
    "## 3. number card game"
   ]
  },
  {
   "cell_type": "code",
   "execution_count": 5,
   "metadata": {},
   "outputs": [],
   "source": [
    "# Ex 1\n",
    "# In 1 : 3 3 \n",
    "# In 2 : 3 1 2 \n",
    "# In 3 : 4 1 4  \n",
    "# In 4 : 2 2 2  \n",
    "\n",
    "# out : 2"
   ]
  },
  {
   "cell_type": "code",
   "execution_count": 6,
   "metadata": {},
   "outputs": [],
   "source": [
    "# Ex 2\n",
    "# In 1 : 2 4  \n",
    "# In 2 : 7 3 1 8 \n",
    "# In 3 : 3 3 3 4   \n",
    "\n",
    "# out : 3"
   ]
  },
  {
   "cell_type": "markdown",
   "metadata": {},
   "source": [
    "### - Using for for (bad????)"
   ]
  },
  {
   "cell_type": "code",
   "execution_count": 19,
   "metadata": {},
   "outputs": [
    {
     "name": "stdin",
     "output_type": "stream",
     "text": [
      " 2 4\n",
      " 7 3 1 8\n",
      " 3 3 3 4\n"
     ]
    },
    {
     "name": "stdout",
     "output_type": "stream",
     "text": [
      "3\n"
     ]
    }
   ],
   "source": [
    "n, m = map(int, input().split())\n",
    "\n",
    "result = 0\n",
    "\n",
    "for i in range(n):\n",
    "    data = list(map(int, input().split()))\n",
    "    \n",
    "    min_value = 10001\n",
    "    for a  in  data:\n",
    "        min_value  =  min(min_value, a)\n",
    "        \n",
    "    result = max(result, min_value)\n",
    "    \n",
    "    \n",
    "print(result)"
   ]
  },
  {
   "cell_type": "markdown",
   "metadata": {},
   "source": [
    "### - Using min function"
   ]
  },
  {
   "cell_type": "code",
   "execution_count": 8,
   "metadata": {},
   "outputs": [
    {
     "name": "stdin",
     "output_type": "stream",
     "text": [
      " 2 4\n",
      " 7 3 1 8 \n",
      " 3 3 3 4\n"
     ]
    },
    {
     "name": "stdout",
     "output_type": "stream",
     "text": [
      "3\n"
     ]
    }
   ],
   "source": [
    "n, m = map(int, input().split())\n",
    "\n",
    "result = 0\n",
    "\n",
    "for _ in range(n):\n",
    "    list_raw = list(map(int, input().split()))\n",
    "    list_min = min(list_raw)\n",
    "    \n",
    "    result = max(list_min, result)\n",
    "        \n",
    "print(result)"
   ]
  },
  {
   "cell_type": "code",
   "execution_count": null,
   "metadata": {},
   "outputs": [],
   "source": []
  },
  {
   "cell_type": "markdown",
   "metadata": {},
   "source": [
    "## 4. until 1"
   ]
  },
  {
   "cell_type": "code",
   "execution_count": 9,
   "metadata": {},
   "outputs": [],
   "source": [
    "# Ex 1\n",
    "# In 1 : 25 5  \n",
    "\n",
    "# out : 2"
   ]
  },
  {
   "cell_type": "markdown",
   "metadata": {},
   "source": [
    "### Bad(for statement)"
   ]
  },
  {
   "cell_type": "code",
   "execution_count": 22,
   "metadata": {},
   "outputs": [
    {
     "name": "stdin",
     "output_type": "stream",
     "text": [
      " 90 5\n"
     ]
    },
    {
     "name": "stdout",
     "output_type": "stream",
     "text": [
      "90\n",
      "18\n",
      "17\n",
      "16\n",
      "15\n",
      "3\n",
      "2\n",
      "7\n"
     ]
    }
   ],
   "source": [
    "n, k = map(int, input().split())\n",
    "\n",
    "result = 0 \n",
    "\n",
    "while True:\n",
    "    print(n)\n",
    "    if n % k == 0:\n",
    "        n //= k\n",
    "        result += 1\n",
    "        \n",
    "    else:\n",
    "        n -= 1\n",
    "        result += 1\n",
    "        \n",
    "        \n",
    "    if n == 1 :\n",
    "        break\n",
    "\n",
    "print(result)"
   ]
  },
  {
   "cell_type": "code",
   "execution_count": 11,
   "metadata": {},
   "outputs": [],
   "source": [
    "### Good"
   ]
  },
  {
   "cell_type": "code",
   "execution_count": 30,
   "metadata": {},
   "outputs": [
    {
     "name": "stdin",
     "output_type": "stream",
     "text": [
      " 3 5\n"
     ]
    },
    {
     "name": "stdout",
     "output_type": "stream",
     "text": [
      "3\n",
      "result : 3 \n",
      "1\n",
      "result : 3 \n",
      "-------------------\n",
      "2\n"
     ]
    }
   ],
   "source": [
    "n, k = map(int, input().split())\n",
    "\n",
    "result = 0 \n",
    "\n",
    "while True:\n",
    "    print(n)\n",
    "    \n",
    "    target = (n//k)*k\n",
    "    result += n-target\n",
    "    n = target\n",
    "    print('result : {} '.format(result))\n",
    "    \n",
    "    \n",
    "    if n < k:\n",
    "        break\n",
    "    else:\n",
    "        n //= k\n",
    "        result += 1\n",
    "        \n",
    "\n",
    "result += n-1\n",
    "\n",
    "print('-------------------')\n",
    "print(result)"
   ]
  },
  {
   "cell_type": "code",
   "execution_count": null,
   "metadata": {},
   "outputs": [],
   "source": []
  }
 ],
 "metadata": {
  "kernelspec": {
   "display_name": "env_jonghyeok",
   "language": "python",
   "name": "env_jonghyeok"
  },
  "language_info": {
   "codemirror_mode": {
    "name": "ipython",
    "version": 3
   },
   "file_extension": ".py",
   "mimetype": "text/x-python",
   "name": "python",
   "nbconvert_exporter": "python",
   "pygments_lexer": "ipython3",
   "version": "3.7.9"
  }
 },
 "nbformat": 4,
 "nbformat_minor": 4
}
