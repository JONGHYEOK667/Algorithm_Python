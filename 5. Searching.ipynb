{
 "cells": [
  {
   "cell_type": "markdown",
   "metadata": {},
   "source": [
    "## 0. Basic"
   ]
  },
  {
   "cell_type": "markdown",
   "metadata": {},
   "source": [
    "### Sequential Searching"
   ]
  },
  {
   "cell_type": "code",
   "execution_count": 4,
   "metadata": {},
   "outputs": [
    {
     "name": "stdout",
     "output_type": "stream",
     "text": [
      "생성할 원소 개수를 입력한 다음  한 칸 띄고 찾을 문자열을 입력하세요\n"
     ]
    },
    {
     "name": "stdin",
     "output_type": "stream",
     "text": [
      " 5 쫑혁\n"
     ]
    },
    {
     "name": "stdout",
     "output_type": "stream",
     "text": [
      "앞서 적은 원소 개수만큼 문자열을 입력하세요. 구분은 듸어쓰기 한 칸으로 합니다.\n"
     ]
    },
    {
     "name": "stdin",
     "output_type": "stream",
     "text": [
      " 쫀녁 뜨리 쯘리 쯔리 쫑혁\n"
     ]
    },
    {
     "name": "stdout",
     "output_type": "stream",
     "text": [
      "5\n"
     ]
    }
   ],
   "source": [
    "def sequential_search(n,target, array):\n",
    "    for i in range(n):\n",
    "        if array[i] == target:\n",
    "            return i+1\n",
    "        \n",
    "print('생성할 원소 개수를 입력한 다음  한 칸 띄고 찾을 문자열을 입력하세요')\n",
    "input_data = input().split()\n",
    "n = int(input_data[0])\n",
    "target = input_data[1]\n",
    "\n",
    "print('앞서 적은 원소 개수만큼 문자열을 입력하세요. 구분은 듸어쓰기 한 칸으로 합니다.')\n",
    "array = input().split()\n",
    "\n",
    "print(sequential_search(n, target, array))"
   ]
  },
  {
   "cell_type": "markdown",
   "metadata": {},
   "source": [
    "### Binary Search"
   ]
  },
  {
   "cell_type": "markdown",
   "metadata": {},
   "source": [
    "#### Recursive "
   ]
  },
  {
   "cell_type": "code",
   "execution_count": 12,
   "metadata": {},
   "outputs": [
    {
     "name": "stdin",
     "output_type": "stream",
     "text": [
      " 10 15\n",
      " 0 1 2 3 4 5 6 7 8 9\n"
     ]
    },
    {
     "name": "stdout",
     "output_type": "stream",
     "text": [
      "n, target, array : 10, 15, [0, 1, 2, 3, 4, 5, 6, 7, 8, 9]\n",
      "원소가 없습니다\n"
     ]
    }
   ],
   "source": [
    "def binary_search_recursive(array, target, start, end):\n",
    "    if start > end:\n",
    "        return None\n",
    "    \n",
    "    mid = (start + end) // 2\n",
    "    \n",
    "    if array[mid] == target:\n",
    "        return mid\n",
    "    \n",
    "    elif array[mid] > target:\n",
    "        return binary_search_recursive(array, target, start, mid-1)\n",
    "    \n",
    "    else:\n",
    "        return binary_search_recursive(array, target, mid+1, end)\n",
    "    \n",
    "    \n",
    "n, target  = map(int, input().split())\n",
    "array =  list(map(int, input().split()))\n",
    "        \n",
    "print('n, target, array : {}, {}, {}'.format(n, target, array))\n",
    "\n",
    "result = binary_search_recursive(array, target, 0, n-1)\n",
    "\n",
    "if result == None:\n",
    "    print('원소가 없습니다')\n",
    "    \n",
    "else:\n",
    "    print(result+1)"
   ]
  },
  {
   "cell_type": "code",
   "execution_count": 23,
   "metadata": {},
   "outputs": [
    {
     "name": "stdin",
     "output_type": "stream",
     "text": [
      " 10 7 \n",
      "  1 2 3 4 5 6 7 8 9 10\n"
     ]
    },
    {
     "name": "stdout",
     "output_type": "stream",
     "text": [
      "n, target, array : 10, 7, [1, 2, 3, 4, 5, 6, 7, 8, 9, 10]\n",
      "0 4 9 5\n",
      "5 7 9 8\n",
      "5 5 6 6\n",
      "6 6 6 7\n",
      "hit\n",
      "7\n"
     ]
    }
   ],
   "source": [
    "def binary_search_for(array, target, start, end):\n",
    "    while start <= end:\n",
    "        \n",
    "        mid = (start + end) // 2\n",
    "        \n",
    "        print(start, mid, end, array[mid])\n",
    "        if array[mid] == target :\n",
    "            print('hit')\n",
    "            return mid\n",
    "        elif  array[mid]  > target:\n",
    "            end =  mid  - 1\n",
    "        else:\n",
    "            start =  mid + 1\n",
    "            \n",
    "    return None\n",
    "    \n",
    "    \n",
    "n, target  = map(int, input().split())\n",
    "array =  list(map(int, input().split()))\n",
    "        \n",
    "print('n, target, array : {}, {}, {}'.format(n, target, array))\n",
    "\n",
    "result = binary_search_for(array, target, 0, n-1)\n",
    "\n",
    "if result == None:\n",
    "    print('원소가 없습니다')\n",
    "    \n",
    "else:\n",
    "    print(result+1)"
   ]
  },
  {
   "cell_type": "markdown",
   "metadata": {},
   "source": [
    "## 1. Finding Parts"
   ]
  },
  {
   "cell_type": "code",
   "execution_count": 25,
   "metadata": {},
   "outputs": [
    {
     "name": "stdin",
     "output_type": "stream",
     "text": [
      " 5\n",
      " 8 3  7 9  2\n",
      " 3  \n",
      " 5 7 9\n"
     ]
    },
    {
     "name": "stdout",
     "output_type": "stream",
     "text": [
      "No Yes Yes "
     ]
    }
   ],
   "source": [
    "def binary_search_for(array, target, start, end):\n",
    "    while start <= end:\n",
    "        \n",
    "        mid = (start + end) // 2\n",
    "        \n",
    "        if array[mid] == target :\n",
    "            return mid\n",
    "        elif  array[mid]  > target:\n",
    "            end =  mid  - 1\n",
    "        else:\n",
    "            start =  mid + 1\n",
    "            \n",
    "    return None\n",
    "\n",
    "\n",
    "n = int(input())\n",
    "array = list(map(int, input().split()))\n",
    "array.sort()\n",
    "\n",
    "m = int(input())\n",
    "x = list(map(int, input().split()))\n",
    "\n",
    "for i in x:\n",
    "    result = binary_search_for(array,  i, 0, n-1)\n",
    "    \n",
    "    if result != None:\n",
    "        print('Yes', end=' ')\n",
    "        \n",
    "    else:\n",
    "        print('No', end=' ')\n",
    "        \n",
    "        \n",
    "\n",
    "    \n"
   ]
  },
  {
   "cell_type": "markdown",
   "metadata": {},
   "source": [
    "## 2. Cutting Rice cake"
   ]
  },
  {
   "cell_type": "code",
   "execution_count": 26,
   "metadata": {},
   "outputs": [
    {
     "name": "stdin",
     "output_type": "stream",
     "text": [
      " 4 6\n",
      " 19  15 10 17\n"
     ]
    },
    {
     "name": "stdout",
     "output_type": "stream",
     "text": [
      "n, m, array : 4, 6, [19, 15, 10, 17]\n"
     ]
    }
   ],
   "source": [
    "n, m = map(int, input().split())\n",
    "array = list(map(int, input().split()))\n",
    "\n",
    "print('n, m, array : {}, {}, {}'.format(n, m, array))"
   ]
  },
  {
   "cell_type": "code",
   "execution_count": 33,
   "metadata": {},
   "outputs": [
    {
     "name": "stdout",
     "output_type": "stream",
     "text": [
      "array, target, start, end : [19, 15, 10, 17], 6, 0, 19\n",
      "0 9 19 25\n",
      "10 14 19 9\n",
      "15 17 19 2\n",
      "15 15 16 6\n",
      "16 16 16 4\n",
      "15\n"
     ]
    }
   ],
   "source": [
    "def binary_search_for(array, target, start, end):\n",
    "    \n",
    "    \n",
    "    while start <= end:\n",
    "        total  = 0\n",
    "        \n",
    "        mid = (start + end) // 2\n",
    "        \n",
    "        for x in array:\n",
    "            if x > mid:\n",
    "                total += x-mid\n",
    "            \n",
    "        print(start, mid, end, total)\n",
    "        \n",
    "    \n",
    "        \n",
    "        if  total < target:\n",
    "            end =  mid -1\n",
    "            \n",
    "        else:\n",
    "            result = mid\n",
    "            start =  mid + 1\n",
    "            \n",
    "    return result\n",
    "\n",
    "\n",
    "start = 0\n",
    "target = 6\n",
    "end = max(array)\n",
    "print('array, target, start, end : {}, {}, {}, {}'.format(array, target, start, end))\n",
    "\n",
    "result = binary_search_for(array, target, start, end)\n",
    "\n",
    "print(result)\n",
    "\n",
    "\n"
   ]
  },
  {
   "cell_type": "code",
   "execution_count": null,
   "metadata": {},
   "outputs": [],
   "source": []
  },
  {
   "cell_type": "code",
   "execution_count": null,
   "metadata": {},
   "outputs": [],
   "source": []
  },
  {
   "cell_type": "code",
   "execution_count": null,
   "metadata": {},
   "outputs": [],
   "source": []
  },
  {
   "cell_type": "code",
   "execution_count": null,
   "metadata": {},
   "outputs": [],
   "source": []
  },
  {
   "cell_type": "code",
   "execution_count": null,
   "metadata": {},
   "outputs": [],
   "source": []
  },
  {
   "cell_type": "code",
   "execution_count": null,
   "metadata": {},
   "outputs": [],
   "source": []
  }
 ],
 "metadata": {
  "kernelspec": {
   "display_name": "env_jonghyeok",
   "language": "python",
   "name": "env_jonghyeok"
  },
  "language_info": {
   "codemirror_mode": {
    "name": "ipython",
    "version": 3
   },
   "file_extension": ".py",
   "mimetype": "text/x-python",
   "name": "python",
   "nbconvert_exporter": "python",
   "pygments_lexer": "ipython3",
   "version": "3.7.9"
  }
 },
 "nbformat": 4,
 "nbformat_minor": 4
}
